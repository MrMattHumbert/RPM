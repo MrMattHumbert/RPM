{
 "cells": [
  {
   "cell_type": "markdown",
   "metadata": {},
   "source": [
    "# Introduction\n",
    "\n",
    "This notebook outlines how the random_walk code was developed, how it can be used, and how to visiualize the walk and perform statistics on it. \n",
    "\n",
    "The Random Positioning Machine that this code is designed to work with was built by FireFly Biotech in Adelaide South Australia. The RMP is made of acrylic and uses light stepper motors to drive the axis. The unit is controlled by sending G-code commands to a controller via a USB cable from a laptop. The RPM has axes which are referred to as \"X\" & \"Y\". The laptop software is Universal G-code Sender. \n",
    "\n",
    "![RPM from wikipedia](/img/Wikipedia_RPM.png)\n"
   ]
  },
  {
   "cell_type": "markdown",
   "metadata": {},
   "source": [
    "## Axes \n",
    "\n",
    "The rpm axes can be set to zero by powering down the unit then moving the axes by hand. For my experiments the \"frames\" are horizontal. The G-code is agnostic to the original configuration. The unit will move relative to its last position. The outer frame is controlled by the \"X\" axis and the iner is the \"Y\" axis. At a value of $\\sim 15.5$ the axis will have rotated $\\pi$ radians. The original random walk code that was supplied by Firefly Biotech walked over a domain that was $2\\pi$ radians.\n",
    "\n",
    "For partial gravity the range of rotation will be restricted. As the rotation range is restricted the time averaged gravity approaches a constant partial gravity value. For partial gravity testing, the time averaged gravitational acceleration will approach zero when the rotation maximum is set to $\\pi$ radians. For small maximum rotation space the time averaged gravity will be nearly one.\n",
    "\n"
   ]
  },
  {
   "cell_type": "markdown",
   "metadata": {},
   "source": [
    "## Motion Directions\n",
    "The hardware developers, who have also developed the zero-g random walk path, suggest having both axes rotate at the same speed so they arrive at the same place at the same time. Literature review has not suggested why this may be, but this practice will be continued here. To do this the directions in the code are set to [(1,1),(1,-1),(-1,-1),(-1,1)], or [NE,NW,SW,SE]."
   ]
  },
  {
   "cell_type": "markdown",
   "metadata": {},
   "source": [
    "## Sudo Code \n",
    "![Alt text](/img/pseudo_code.png)"
   ]
  },
  {
   "cell_type": "markdown",
   "metadata": {},
   "source": [
    "# Using the random_walk.py script"
   ]
  },
  {
   "cell_type": "code",
   "execution_count": 1,
   "metadata": {},
   "outputs": [],
   "source": [
    "#import the appropriate libararies\n",
    "import numpy as np\n",
    "import pandas as pd\n",
    "import xarray as xr\n",
    "import matplotlib.pyplot as plt\n",
    "\n",
    "#import the random walk script\n",
    "from random_walk import RandomWalk2D\n",
    "\n",
    "#auto reload modules for development\n",
    "%load_ext autoreload\n",
    "%autoreload 2"
   ]
  },
  {
   "cell_type": "code",
   "execution_count": 12,
   "metadata": {},
   "outputs": [],
   "source": [
    "# Load the resample function and RPM coordinates to cartesian functions from the utilities script\n",
    "from utilities import interpolate_points\n",
    "from utilities import rpm2cartesian"
   ]
  },
  {
   "cell_type": "code",
   "execution_count": 2,
   "metadata": {},
   "outputs": [
    {
     "data": {
      "text/html": [
       "<div>\n",
       "<style scoped>\n",
       "    .dataframe tbody tr th:only-of-type {\n",
       "        vertical-align: middle;\n",
       "    }\n",
       "\n",
       "    .dataframe tbody tr th {\n",
       "        vertical-align: top;\n",
       "    }\n",
       "\n",
       "    .dataframe thead th {\n",
       "        text-align: right;\n",
       "    }\n",
       "</style>\n",
       "<table border=\"1\" class=\"dataframe\">\n",
       "  <thead>\n",
       "    <tr style=\"text-align: right;\">\n",
       "      <th></th>\n",
       "      <th>Theta</th>\n",
       "      <th>Phi</th>\n",
       "      <th>Dir</th>\n",
       "      <th>X</th>\n",
       "      <th>Y</th>\n",
       "      <th>Z</th>\n",
       "    </tr>\n",
       "  </thead>\n",
       "  <tbody>\n",
       "    <tr>\n",
       "      <th>0</th>\n",
       "      <td>0.000000</td>\n",
       "      <td>0.000000</td>\n",
       "      <td>(1, 1)</td>\n",
       "      <td>0.000000</td>\n",
       "      <td>0.000000</td>\n",
       "      <td>-1.000000</td>\n",
       "    </tr>\n",
       "    <tr>\n",
       "      <th>1</th>\n",
       "      <td>2.273360</td>\n",
       "      <td>2.273360</td>\n",
       "      <td>(1, 1)</td>\n",
       "      <td>0.398268</td>\n",
       "      <td>0.444640</td>\n",
       "      <td>-0.802295</td>\n",
       "    </tr>\n",
       "    <tr>\n",
       "      <th>2</th>\n",
       "      <td>-0.174117</td>\n",
       "      <td>4.720838</td>\n",
       "      <td>(1, -1)</td>\n",
       "      <td>-0.020327</td>\n",
       "      <td>0.817373</td>\n",
       "      <td>-0.575751</td>\n",
       "    </tr>\n",
       "    <tr>\n",
       "      <th>3</th>\n",
       "      <td>-8.008937</td>\n",
       "      <td>-3.113982</td>\n",
       "      <td>(-1, -1)</td>\n",
       "      <td>-0.806236</td>\n",
       "      <td>-0.590076</td>\n",
       "      <td>0.042352</td>\n",
       "    </tr>\n",
       "    <tr>\n",
       "      <th>4</th>\n",
       "      <td>-9.355403</td>\n",
       "      <td>-1.767516</td>\n",
       "      <td>(1, -1)</td>\n",
       "      <td>-0.887371</td>\n",
       "      <td>-0.350632</td>\n",
       "      <td>0.299382</td>\n",
       "    </tr>\n",
       "    <tr>\n",
       "      <th>...</th>\n",
       "      <td>...</td>\n",
       "      <td>...</td>\n",
       "      <td>...</td>\n",
       "      <td>...</td>\n",
       "      <td>...</td>\n",
       "      <td>...</td>\n",
       "    </tr>\n",
       "    <tr>\n",
       "      <th>96</th>\n",
       "      <td>-1.290082</td>\n",
       "      <td>3.055650</td>\n",
       "      <td>(1, -1)</td>\n",
       "      <td>-0.210495</td>\n",
       "      <td>0.580489</td>\n",
       "      <td>-0.786590</td>\n",
       "    </tr>\n",
       "    <tr>\n",
       "      <th>97</th>\n",
       "      <td>0.626192</td>\n",
       "      <td>4.971923</td>\n",
       "      <td>(1, 1)</td>\n",
       "      <td>0.067566</td>\n",
       "      <td>0.845620</td>\n",
       "      <td>-0.529491</td>\n",
       "    </tr>\n",
       "    <tr>\n",
       "      <th>98</th>\n",
       "      <td>9.682266</td>\n",
       "      <td>-4.084152</td>\n",
       "      <td>(-1, 1)</td>\n",
       "      <td>0.625283</td>\n",
       "      <td>-0.736438</td>\n",
       "      <td>0.258224</td>\n",
       "    </tr>\n",
       "    <tr>\n",
       "      <th>99</th>\n",
       "      <td>9.337949</td>\n",
       "      <td>-4.428470</td>\n",
       "      <td>(-1, -1)</td>\n",
       "      <td>0.591490</td>\n",
       "      <td>-0.781819</td>\n",
       "      <td>0.197229</td>\n",
       "    </tr>\n",
       "    <tr>\n",
       "      <th>100</th>\n",
       "      <td>9.608551</td>\n",
       "      <td>-4.699073</td>\n",
       "      <td>(-1, 1)</td>\n",
       "      <td>0.539063</td>\n",
       "      <td>-0.814823</td>\n",
       "      <td>0.213247</td>\n",
       "    </tr>\n",
       "  </tbody>\n",
       "</table>\n",
       "<p>101 rows × 6 columns</p>\n",
       "</div>"
      ],
      "text/plain": [
       "        Theta       Phi       Dir         X         Y         Z\n",
       "0    0.000000  0.000000    (1, 1)  0.000000  0.000000 -1.000000\n",
       "1    2.273360  2.273360    (1, 1)  0.398268  0.444640 -0.802295\n",
       "2   -0.174117  4.720838   (1, -1) -0.020327  0.817373 -0.575751\n",
       "3   -8.008937 -3.113982  (-1, -1) -0.806236 -0.590076  0.042352\n",
       "4   -9.355403 -1.767516   (1, -1) -0.887371 -0.350632  0.299382\n",
       "..        ...       ...       ...       ...       ...       ...\n",
       "96  -1.290082  3.055650   (1, -1) -0.210495  0.580489 -0.786590\n",
       "97   0.626192  4.971923    (1, 1)  0.067566  0.845620 -0.529491\n",
       "98   9.682266 -4.084152   (-1, 1)  0.625283 -0.736438  0.258224\n",
       "99   9.337949 -4.428470  (-1, -1)  0.591490 -0.781819  0.197229\n",
       "100  9.608551 -4.699073   (-1, 1)  0.539063 -0.814823  0.213247\n",
       "\n",
       "[101 rows x 6 columns]"
      ]
     },
     "execution_count": 2,
     "metadata": {},
     "output_type": "execute_result"
    }
   ],
   "source": [
    "# this cell makes sure everything is loaded correctly\n",
    "# format is RandomWalk2D(#points,x_max,y_max)\n",
    "max = 10\n",
    "RandomWalk2D(100,max,max).generate_walk().get_path()"
   ]
  },
  {
   "cell_type": "markdown",
   "metadata": {},
   "source": [
    "# Path Analysis\n",
    "\n",
    "The random positioning code needs to be examined for several key metrics.\n",
    "1. Average gravity as a function of maximum X & Y, (taken as equal for this testing)\n",
    "2. Width of time window to achieve the desired average gravity"
   ]
  },
  {
   "cell_type": "markdown",
   "metadata": {},
   "source": [
    "## Average gravity"
   ]
  },
  {
   "cell_type": "code",
   "execution_count": 7,
   "metadata": {},
   "outputs": [],
   "source": [
    "# Average gravity as a function of limited rotation\n",
    "# For 5000 points this takes about 6min on a laptop.\n",
    "MaxTheta = np.linspace(3,15.5)  #np.array([3,6,9,12,15]) \n",
    "gravity = [RandomWalk2D(5000,i,i).generate_walk().get_path() for i in MaxTheta]\n",
    "x_path = xr.concat([grav.to_xarray() for grav in gravity],dim='MaxTheta')\n",
    "x_path['MaxTheta'] = ('MaxTheta',MaxTheta)"
   ]
  },
  {
   "cell_type": "markdown",
   "metadata": {},
   "source": [
    "### Save the paths as an hdf5 xarray file (Optional)"
   ]
  },
  {
   "cell_type": "code",
   "execution_count": 8,
   "metadata": {},
   "outputs": [
    {
     "data": {
      "text/plain": [
       "5001"
      ]
     },
     "execution_count": 8,
     "metadata": {},
     "output_type": "execute_result"
    }
   ],
   "source": [
    "x_path['index'].shape[0]"
   ]
  },
  {
   "cell_type": "code",
   "execution_count": 9,
   "metadata": {},
   "outputs": [
    {
     "ename": "ValueError",
     "evalue": "cannot read or write netCDF files without netCDF4-python or scipy installed",
     "output_type": "error",
     "traceback": [
      "\u001b[1;31m---------------------------------------------------------------------------\u001b[0m",
      "\u001b[1;31mModuleNotFoundError\u001b[0m                       Traceback (most recent call last)",
      "File \u001b[1;32mc:\\Users\\mrmat\\AppData\\Local\\Programs\\Python\\Python311\\Lib\\site-packages\\xarray\\backends\\api.py:118\u001b[0m, in \u001b[0;36m_get_default_engine_netcdf\u001b[1;34m()\u001b[0m\n\u001b[0;32m    117\u001b[0m \u001b[39mtry\u001b[39;00m:\n\u001b[1;32m--> 118\u001b[0m     \u001b[39mimport\u001b[39;00m \u001b[39mnetCDF4\u001b[39;00m  \u001b[39m# noqa: F401\u001b[39;00m\n\u001b[0;32m    120\u001b[0m     engine \u001b[39m=\u001b[39m \u001b[39m\"\u001b[39m\u001b[39mnetcdf4\u001b[39m\u001b[39m\"\u001b[39m\n",
      "\u001b[1;31mModuleNotFoundError\u001b[0m: No module named 'netCDF4'",
      "\nDuring handling of the above exception, another exception occurred:\n",
      "\u001b[1;31mModuleNotFoundError\u001b[0m                       Traceback (most recent call last)",
      "File \u001b[1;32mc:\\Users\\mrmat\\AppData\\Local\\Programs\\Python\\Python311\\Lib\\site-packages\\xarray\\backends\\api.py:123\u001b[0m, in \u001b[0;36m_get_default_engine_netcdf\u001b[1;34m()\u001b[0m\n\u001b[0;32m    122\u001b[0m \u001b[39mtry\u001b[39;00m:\n\u001b[1;32m--> 123\u001b[0m     \u001b[39mimport\u001b[39;00m \u001b[39mscipy\u001b[39;00m\u001b[39m.\u001b[39;00m\u001b[39mio\u001b[39;00m\u001b[39m.\u001b[39;00m\u001b[39mnetcdf\u001b[39;00m  \u001b[39m# noqa: F401\u001b[39;00m\n\u001b[0;32m    125\u001b[0m     engine \u001b[39m=\u001b[39m \u001b[39m\"\u001b[39m\u001b[39mscipy\u001b[39m\u001b[39m\"\u001b[39m\n",
      "\u001b[1;31mModuleNotFoundError\u001b[0m: No module named 'scipy'",
      "\nDuring handling of the above exception, another exception occurred:\n",
      "\u001b[1;31mValueError\u001b[0m                                Traceback (most recent call last)",
      "\u001b[1;32mc:\\Users\\mrmat\\Documents\\GitHub\\RPM\\setup_analysis.ipynb Cell 13\u001b[0m line \u001b[0;36m3\n\u001b[0;32m      <a href='vscode-notebook-cell:/c%3A/Users/mrmat/Documents/GitHub/RPM/setup_analysis.ipynb#X15sZmlsZQ%3D%3D?line=0'>1</a>\u001b[0m \u001b[39m# Save to an hdf5 file, this is optional.\u001b[39;00m\n\u001b[0;32m      <a href='vscode-notebook-cell:/c%3A/Users/mrmat/Documents/GitHub/RPM/setup_analysis.ipynb#X15sZmlsZQ%3D%3D?line=1'>2</a>\u001b[0m \u001b[39m# Need to drop the tuple because the netcdf file doesn't this  \u001b[39;00m\n\u001b[1;32m----> <a href='vscode-notebook-cell:/c%3A/Users/mrmat/Documents/GitHub/RPM/setup_analysis.ipynb#X15sZmlsZQ%3D%3D?line=2'>3</a>\u001b[0m x_path\u001b[39m.\u001b[39;49mdrop(\u001b[39m'\u001b[39;49m\u001b[39mDir\u001b[39;49m\u001b[39m'\u001b[39;49m)\u001b[39m.\u001b[39;49mto_netcdf(\u001b[39m'\u001b[39;49m\u001b[39mx_path.nc\u001b[39;49m\u001b[39m'\u001b[39;49m)\n",
      "File \u001b[1;32mc:\\Users\\mrmat\\AppData\\Local\\Programs\\Python\\Python311\\Lib\\site-packages\\xarray\\core\\dataset.py:2279\u001b[0m, in \u001b[0;36mDataset.to_netcdf\u001b[1;34m(self, path, mode, format, group, engine, encoding, unlimited_dims, compute, invalid_netcdf)\u001b[0m\n\u001b[0;32m   2276\u001b[0m     encoding \u001b[39m=\u001b[39m {}\n\u001b[0;32m   2277\u001b[0m \u001b[39mfrom\u001b[39;00m \u001b[39mxarray\u001b[39;00m\u001b[39m.\u001b[39;00m\u001b[39mbackends\u001b[39;00m\u001b[39m.\u001b[39;00m\u001b[39mapi\u001b[39;00m \u001b[39mimport\u001b[39;00m to_netcdf\n\u001b[1;32m-> 2279\u001b[0m \u001b[39mreturn\u001b[39;00m to_netcdf(  \u001b[39m# type: ignore  # mypy cannot resolve the overloads:(\u001b[39;49;00m\n\u001b[0;32m   2280\u001b[0m     \u001b[39mself\u001b[39;49m,\n\u001b[0;32m   2281\u001b[0m     path,\n\u001b[0;32m   2282\u001b[0m     mode\u001b[39m=\u001b[39;49mmode,\n\u001b[0;32m   2283\u001b[0m     \u001b[39mformat\u001b[39;49m\u001b[39m=\u001b[39;49m\u001b[39mformat\u001b[39;49m,\n\u001b[0;32m   2284\u001b[0m     group\u001b[39m=\u001b[39;49mgroup,\n\u001b[0;32m   2285\u001b[0m     engine\u001b[39m=\u001b[39;49mengine,\n\u001b[0;32m   2286\u001b[0m     encoding\u001b[39m=\u001b[39;49mencoding,\n\u001b[0;32m   2287\u001b[0m     unlimited_dims\u001b[39m=\u001b[39;49munlimited_dims,\n\u001b[0;32m   2288\u001b[0m     compute\u001b[39m=\u001b[39;49mcompute,\n\u001b[0;32m   2289\u001b[0m     multifile\u001b[39m=\u001b[39;49m\u001b[39mFalse\u001b[39;49;00m,\n\u001b[0;32m   2290\u001b[0m     invalid_netcdf\u001b[39m=\u001b[39;49minvalid_netcdf,\n\u001b[0;32m   2291\u001b[0m )\n",
      "File \u001b[1;32mc:\\Users\\mrmat\\AppData\\Local\\Programs\\Python\\Python311\\Lib\\site-packages\\xarray\\backends\\api.py:1207\u001b[0m, in \u001b[0;36mto_netcdf\u001b[1;34m(dataset, path_or_file, mode, format, group, engine, encoding, unlimited_dims, compute, multifile, invalid_netcdf)\u001b[0m\n\u001b[0;32m   1205\u001b[0m \u001b[39melif\u001b[39;00m \u001b[39misinstance\u001b[39m(path_or_file, \u001b[39mstr\u001b[39m):\n\u001b[0;32m   1206\u001b[0m     \u001b[39mif\u001b[39;00m engine \u001b[39mis\u001b[39;00m \u001b[39mNone\u001b[39;00m:\n\u001b[1;32m-> 1207\u001b[0m         engine \u001b[39m=\u001b[39m _get_default_engine(path_or_file)\n\u001b[0;32m   1208\u001b[0m     path_or_file \u001b[39m=\u001b[39m _normalize_path(path_or_file)\n\u001b[0;32m   1209\u001b[0m \u001b[39melse\u001b[39;00m:  \u001b[39m# file-like object\u001b[39;00m\n",
      "File \u001b[1;32mc:\\Users\\mrmat\\AppData\\Local\\Programs\\Python\\Python311\\Lib\\site-packages\\xarray\\backends\\api.py:140\u001b[0m, in \u001b[0;36m_get_default_engine\u001b[1;34m(path, allow_remote)\u001b[0m\n\u001b[0;32m    138\u001b[0m     \u001b[39mreturn\u001b[39;00m _get_default_engine_gz()\n\u001b[0;32m    139\u001b[0m \u001b[39melse\u001b[39;00m:\n\u001b[1;32m--> 140\u001b[0m     \u001b[39mreturn\u001b[39;00m _get_default_engine_netcdf()\n",
      "File \u001b[1;32mc:\\Users\\mrmat\\AppData\\Local\\Programs\\Python\\Python311\\Lib\\site-packages\\xarray\\backends\\api.py:127\u001b[0m, in \u001b[0;36m_get_default_engine_netcdf\u001b[1;34m()\u001b[0m\n\u001b[0;32m    125\u001b[0m         engine \u001b[39m=\u001b[39m \u001b[39m\"\u001b[39m\u001b[39mscipy\u001b[39m\u001b[39m\"\u001b[39m\n\u001b[0;32m    126\u001b[0m     \u001b[39mexcept\u001b[39;00m \u001b[39mImportError\u001b[39;00m:\n\u001b[1;32m--> 127\u001b[0m         \u001b[39mraise\u001b[39;00m \u001b[39mValueError\u001b[39;00m(\n\u001b[0;32m    128\u001b[0m             \u001b[39m\"\u001b[39m\u001b[39mcannot read or write netCDF files without \u001b[39m\u001b[39m\"\u001b[39m\n\u001b[0;32m    129\u001b[0m             \u001b[39m\"\u001b[39m\u001b[39mnetCDF4-python or scipy installed\u001b[39m\u001b[39m\"\u001b[39m\n\u001b[0;32m    130\u001b[0m         )\n\u001b[0;32m    131\u001b[0m \u001b[39mreturn\u001b[39;00m engine\n",
      "\u001b[1;31mValueError\u001b[0m: cannot read or write netCDF files without netCDF4-python or scipy installed"
     ]
    }
   ],
   "source": [
    "# Save to an hdf5 file, this is optional.\n",
    "# Need to drop the tuple because the netcdf file doesn't this  \n",
    "x_path.drop('Dir').to_netcdf('x_path.nc')"
   ]
  },
  {
   "cell_type": "code",
   "execution_count": 3,
   "metadata": {},
   "outputs": [
    {
     "name": "stdout",
     "output_type": "stream",
     "text": [
      "<xarray.Dataset>\n",
      "Dimensions:   (index: 5001, MaxTheta: 5)\n",
      "Coordinates:\n",
      "  * index     (index) int64 0 1 2 3 4 5 6 ... 4994 4995 4996 4997 4998 4999 5000\n",
      "  * MaxTheta  (MaxTheta) int32 3 6 9 12 15\n",
      "Data variables:\n",
      "    Theta     (MaxTheta, index) float64 ...\n",
      "    Phi       (MaxTheta, index) float64 ...\n",
      "    X         (MaxTheta, index) float64 ...\n",
      "    Y         (MaxTheta, index) float64 ...\n",
      "    Z         (MaxTheta, index) float64 ...\n"
     ]
    }
   ],
   "source": [
    "#load file if there is no x_path variable\n",
    "x_path = xr.open_dataset(\"x_path.nc\", engine='netcdf4')\n",
    "print(x_path)"
   ]
  },
  {
   "cell_type": "markdown",
   "metadata": {},
   "source": [
    "Because the higher MaxTheta can have longer segments between each turn there will be more total points in the extended, evenly spaced, dataset. This is why there is a min_path line in the following code. "
   ]
  },
  {
   "cell_type": "code",
   "execution_count": 11,
   "metadata": {},
   "outputs": [
    {
     "name": "stdout",
     "output_type": "stream",
     "text": [
      "<xarray.Dataset>\n",
      "Dimensions:   (index: 696237, MaxTheta: 50)\n",
      "Coordinates:\n",
      "  * index     (index) int32 0 1 2 3 4 5 ... 696232 696233 696234 696235 696236\n",
      "  * MaxTheta  (MaxTheta) float64 3.0 3.255 3.51 3.765 ... 14.73 14.99 15.24 15.5\n",
      "Data variables:\n",
      "    Phi       (index, MaxTheta) float64 0.0 0.0 0.0 0.0 ... 13.31 -11.95 -7.159\n",
      "    Theta     (index, MaxTheta) float64 0.0 0.0 0.0 0.0 ... -1.787 0.5534 9.798\n"
     ]
    }
   ],
   "source": [
    "# Resample the data from the random walk\n",
    "step_size = 0.01\n",
    "path_list = []\n",
    "\n",
    "for i,max in enumerate(MaxTheta):\n",
    "    data = interpolate_points(x_path.isel(MaxTheta=i)['Phi'].values,x_path.isel(MaxTheta=i)['Theta'].values,step_size)\n",
    "    path_list.append(xr.Dataset(\n",
    "        data_vars={\n",
    "        \"Phi\": ((\"index\", \"MaxTheta\"), data[:,0][:, np.newaxis]),\n",
    "        \"Theta\": ((\"index\", \"MaxTheta\"), data[:,1][:, np.newaxis]),\n",
    "    },\n",
    "    coords={\n",
    "        \"index\": np.arange(data[:,0].shape[0]),\n",
    "        \"MaxTheta\": [max],  # Assuming there's only one MaxTheta value\n",
    "    },))\n",
    "min_length = np.min([pl['index'].shape[0] for pl in path_list])\n",
    "x_path_extended = xr.concat([pl.isel(index=slice(0,min_length)) for pl in path_list],dim='MaxTheta')\n",
    "\n",
    "# Print the resulting dataset\n",
    "print(x_path_extended)"
   ]
  },
  {
   "cell_type": "code",
   "execution_count": 8,
   "metadata": {},
   "outputs": [
    {
     "name": "stdout",
     "output_type": "stream",
     "text": [
      "<xarray.Dataset>\n",
      "Dimensions:   (index: 692833, MaxTheta: 50)\n",
      "Coordinates:\n",
      "  * index     (index) int32 0 1 2 3 4 5 ... 692828 692829 692830 692831 692832\n",
      "  * MaxTheta  (MaxTheta) float64 3.0 3.255 3.51 3.765 ... 14.73 14.99 15.24 15.5\n",
      "Data variables:\n",
      "    Phi       (index, MaxTheta) float64 0.0 0.0 0.0 0.0 ... 4.595 -6.88 5.534\n",
      "    Theta     (index, MaxTheta) float64 0.0 0.0 0.0 0.0 ... -11.06 8.177 12.37\n",
      "    X         (MaxTheta, index) float64 0.0 0.001425 0.00285 ... -0.7253 -0.7251\n",
      "    Y         (MaxTheta, index) float64 0.0 0.001425 0.00285 ... 0.5922 0.5934\n",
      "    Z         (MaxTheta, index) float64 -1.0 -1.0 -1.0 ... 0.3523 0.3509 0.3495\n"
     ]
    }
   ],
   "source": [
    "# Add the X,Y,Z positions to the dataset as data variables. \n",
    "x_path_extended[\"X\"], x_path_extended[\"Y\"],x_path_extended[\"Z\"]= xr.apply_ufunc(\n",
    "    rpm2cartesian,\n",
    "    x_path_extended[\"Phi\"],\n",
    "    x_path_extended[\"Theta\"],\n",
    "    input_core_dims=[[\"MaxTheta\", \"index\"], [\"MaxTheta\", \"index\"]],\n",
    "    output_core_dims=[[\"MaxTheta\", \"index\"], [\"MaxTheta\", \"index\"], [\"MaxTheta\", \"index\"]],\n",
    "    vectorize=True,\n",
    "    dask=\"allowed\",  # Use parallel computation with dask\n",
    "    output_dtypes=[float, float, float],\n",
    ")\n",
    "\n",
    "# Print the resulting dataset\n",
    "print(x_path_extended)"
   ]
  },
  {
   "cell_type": "code",
   "execution_count": 31,
   "metadata": {},
   "outputs": [],
   "source": [
    "# Save to an hdf5 file, this is optional.\n",
    "x_path_extended.to_netcdf('x_path_extended.nc')"
   ]
  },
  {
   "cell_type": "code",
   "execution_count": 6,
   "metadata": {},
   "outputs": [],
   "source": [
    "x_path_extended = xr.open_dataset(\"x_path_extended.nc\", engine='netcdf4')\n",
    "MaxTheta = x_path_extended.MaxTheta.to_numpy()"
   ]
  },
  {
   "cell_type": "code",
   "execution_count": 17,
   "metadata": {},
   "outputs": [],
   "source": [
    "mean_z_gravity = x_path_extended['Z'].mean(dim='index').values"
   ]
  },
  {
   "cell_type": "code",
   "execution_count": null,
   "metadata": {},
   "outputs": [],
   "source": [
    "np.savetxt('mean_z_gravity.csv',mean_z_gravity,delimiter=',')"
   ]
  },
  {
   "cell_type": "code",
   "execution_count": 11,
   "metadata": {},
   "outputs": [
    {
     "name": "stdout",
     "output_type": "stream",
     "text": [
      "[-0.74854695] [10.96867908]\n"
     ]
    },
    {
     "data": {
      "text/plain": [
       "Text(0.5, 1.0, 'Average Acceleration vs. Angular Displacement')"
      ]
     },
     "execution_count": 11,
     "metadata": {},
     "output_type": "execute_result"
    },
    {
     "data": {
      "image/png": "[encoded data removed]",
      "text/plain": [
       "<Figure size 800x450 with 1 Axes>"
      ]
     },
     "metadata": {},
     "output_type": "display_data"
    }
   ],
   "source": [
    "# Load mean gravity if available\n",
    "mean_z_gravity = pd.read_csv('mean_z_gravity.csv')\n",
    "x = np.linspace(3,15.5,49)\n",
    "\n",
    "# Linear regression of average gravity as a function of maximum azmuth\n",
    "# The last 6 points have been dropped because they skew the trend\n",
    "slope, intercept = np.polyfit(x[:45],abs(mean_z_gravity[:45]*10),1)\n",
    "print(slope,intercept)\n",
    "\n",
    "fig, ax = plt.subplots(figsize=(8,4.5))\n",
    "ax.scatter(x,abs(mean_z_gravity)*10,label=\"Avg Gravity\")\n",
    "ax.hlines(9.81,x[0],x[-1],colors='tab:orange',label=\"Earth\",linestyles='dashed')\n",
    "ax.hlines(3.72,x[0],x[-1],colors='tab:green',label='Mars',linestyles='dotted')\n",
    "ax.hlines(1.625,x[0],x[-1],colors='tab:red',label='Moon',linestyles='dashdot')\n",
    "\n",
    "# Plot the regression line\n",
    "theta_symbol  = \"\\u03B8\"\n",
    "plt.plot(x, intercept + slope * x, color='grey', label=f'g({theta_symbol})={intercept[0].round(2)}-{abs(slope)[0].round(2)}{theta_symbol}')\n",
    "\n",
    "ax.legend(loc='upper right', framealpha=1,prop={'size':14})\n",
    "ax.set_xlabel(r'$\\theta$ from -Z /G-code Units')\n",
    "ax.set_ylabel(r'Gravitational Acceleration / $m_ s^{-1}$')\n",
    "ax.set_title('Average Acceleration vs. Angular Displacement')\n",
    "\n"
   ]
  },
  {
   "cell_type": "markdown",
   "metadata": {},
   "source": []
  },
  {
   "cell_type": "code",
   "execution_count": 13,
   "metadata": {},
   "outputs": [
    {
     "name": "stdout",
     "output_type": "stream",
     "text": [
      "[ 8.72  6.47  4.22  1.97 -0.28]\n"
     ]
    }
   ],
   "source": [
    "exp_thetas = np.array([3,6,9,12,15])\n",
    "print(exp_thetas*-0.75+10.97)\n",
    "gravity_key = [[3,8.89],[6,6.2],[9,4.22],[12,2.1],[15,1]]"
   ]
  },
  {
   "cell_type": "code",
   "execution_count": 23,
   "metadata": {},
   "outputs": [
    {
     "name": "stdout",
     "output_type": "stream",
     "text": [
      "    -9.072548732457156317e-01\n",
      "0                   -0.889233\n",
      "1                   -0.873082\n",
      "2                   -0.857929\n",
      "3                   -0.837866\n",
      "4                   -0.817386\n",
      "5                   -0.799520\n",
      "6                   -0.780959\n",
      "7                   -0.754251\n",
      "8                   -0.729208\n",
      "9                   -0.716723\n",
      "10                  -0.689344\n",
      "11                  -0.668765\n",
      "12                  -0.637682\n",
      "13                  -0.616867\n",
      "14                  -0.582994\n",
      "15                  -0.579029\n",
      "16                  -0.563019\n",
      "17                  -0.529319\n",
      "18                  -0.501412\n",
      "19                  -0.468252\n",
      "20                  -0.455811\n",
      "21                  -0.436153\n",
      "22                  -0.405657\n",
      "23                  -0.396559\n",
      "24                  -0.368349\n",
      "25                  -0.352262\n",
      "26                  -0.337926\n",
      "27                  -0.330628\n",
      "28                  -0.285913\n",
      "29                  -0.259304\n",
      "30                  -0.254167\n",
      "31                  -0.242153\n",
      "32                  -0.206364\n",
      "33                  -0.205026\n",
      "34                  -0.212615\n",
      "35                  -0.185225\n",
      "36                  -0.164307\n",
      "37                  -0.178120\n",
      "38                  -0.157008\n",
      "39                  -0.150049\n",
      "40                  -0.126148\n",
      "41                  -0.110381\n",
      "42                  -0.077529\n",
      "43                  -0.075076\n",
      "44                  -0.089626\n",
      "45                  -0.087818\n",
      "46                  -0.078477\n",
      "47                  -0.100289\n",
      "48                  -0.101342\n",
      "    -9.072548732457156317e-01\n",
      "43                  -0.075076\n",
      "44                  -0.089626\n",
      "45                  -0.087818\n",
      "46                  -0.078477\n",
      "47                  -0.100289\n",
      "48                  -0.101342\n",
      "[ 3.          3.26041667  3.52083333  3.78125     4.04166667  4.30208333\n",
      "  4.5625      4.82291667  5.08333333  5.34375     5.60416667  5.86458333\n",
      "  6.125       6.38541667  6.64583333  6.90625     7.16666667  7.42708333\n",
      "  7.6875      7.94791667  8.20833333  8.46875     8.72916667  8.98958333\n",
      "  9.25        9.51041667  9.77083333 10.03125    10.29166667 10.55208333\n",
      " 10.8125     11.07291667 11.33333333 11.59375    11.85416667 12.11458333\n",
      " 12.375      12.63541667 12.89583333 13.15625    13.41666667 13.67708333\n",
      " 13.9375     14.19791667 14.45833333 14.71875    14.97916667 15.23958333\n",
      " 15.5       ]\n"
     ]
    }
   ],
   "source": [
    "print(mean_z_gravity)\n",
    "print(mean_z_gravity[-6:])\n",
    "print(x)"
   ]
  },
  {
   "cell_type": "code",
   "execution_count": 19,
   "metadata": {},
   "outputs": [],
   "source": [
    "# Linear regression of average gravity as a function of maximum azmuth\n",
    "# The last 6 points have been dropped because they skew the trend\n",
    "slope_rad, intercept_rad = np.polyfit(x_path_extended.MaxTheta.to_numpy()[:45]*np.pi/15.5,abs(mean_z_gravity[:45]),1)\n",
    "slope, intercept = np.polyfit(x_path_extended.MaxTheta.to_numpy()[:45],abs(mean_z_gravity[:45]),1)"
   ]
  },
  {
   "cell_type": "code",
   "execution_count": 23,
   "metadata": {},
   "outputs": [
    {
     "data": {
      "image/png": "[encoded data removed]",
      "text/plain": [
       "<Figure size 800x450 with 1 Axes>"
      ]
     },
     "metadata": {},
     "output_type": "display_data"
    }
   ],
   "source": [
    "# Plot the average gravity\n",
    "x = MaxTheta\n",
    "fig, ax = plt.subplots(figsize=(8,4.5))\n",
    "\n",
    "# Set the font family to Source Sans 3\n",
    "#plt.rcParams['font.family'] = 'Source Sans 3'\n",
    "#plt.rcParams['mathtext.fontset'] = 'custom'\n",
    "plt.rcParams['mathtext.rm']='DejaVu Sans'\n",
    "plt.rcParams['font.family'] = 'DejaVu Sans'\n",
    "\n",
    "# Set the x-axis tick locations\n",
    "ax.set_xticks(np.linspace(0,15.5, 8))\n",
    "\n",
    "# Set the x-axis tick labels as fractions of pi\n",
    "ax.set_xticklabels([ r'$\\frac{\\pi}{8}$', r'$\\frac{\\pi}{4}$', r'$\\frac{3\\pi}{8}$',\n",
    "                    r'$\\frac{\\pi}{2}$', r'$\\frac{5\\pi}{8}$', r'$\\frac{3\\pi}{4}$', r'$\\frac{7\\pi}{8}$',r'$\\pi$'])\n",
    "#ax.set_yticklabels(['-1.0','-0.8','-0.6','-0.4','-0.2','0'])\n",
    "\n",
    "# Increase the font size of the axes numbers\n",
    "ax.tick_params(axis='x', which='major', labelsize=14)\n",
    "ax.tick_params(axis='y', which='major', labelsize=10)\n",
    "\n",
    "# Plot the data\n",
    "ax.scatter(x,abs(mean_z_gravity),label = \"RPM Calculated\")\n",
    "ax.hlines(1,x[0],x[-1],colors='tab:orange',label=\"Earth\",linestyles='dashed')\n",
    "ax.hlines(0.33,x[0],x[-1],colors='tab:green',label='Mars',linestyles='dotted')\n",
    "ax.hlines(0.17,x[0],x[-1],colors='tab:red',label='Moon',linestyles='dashdot')\n",
    "# Plot the regression line\n",
    "theta_symbol  = \"\\u03B8\"\n",
    "plt.plot(x, intercept + slope * x, color='grey', label=f'g({theta_symbol})={intercept_rad.round(2)}-{abs(slope_rad).round(2)}{theta_symbol}')\n",
    "\n",
    "ax.legend(loc='upper right', framealpha=1,prop={'size':14})\n",
    "ax.set_xlabel(r'$\\theta$ from -Z /radians')\n",
    "ax.set_ylabel('Normalized Gravitational Acceleration')\n",
    "ax.set_title('Average Acceleration vs. Angular Displacement')\n",
    "\n",
    "plt.show()\n"
   ]
  },
  {
   "cell_type": "code",
   "execution_count": 11,
   "metadata": {},
   "outputs": [
    {
     "data": {
      "text/plain": [
       "array([-0.90725487, -0.88923305, -0.8730821 , -0.85792886, -0.83786646,\n",
       "       -0.81738584, -0.79951994, -0.78095903, -0.75425125, -0.72920787,\n",
       "       -0.7167225 , -0.68934436, -0.66876506, -0.6376823 , -0.61686745,\n",
       "       -0.58299389, -0.5790287 , -0.56301944, -0.52931918, -0.50141187,\n",
       "       -0.46825216, -0.45581052, -0.43615334, -0.40565742, -0.39655877,\n",
       "       -0.36834938, -0.35226214, -0.33792587, -0.3306279 , -0.28591255,\n",
       "       -0.25930418, -0.25416678, -0.24215282, -0.20636399, -0.20502591,\n",
       "       -0.2126147 , -0.18522455, -0.16430719, -0.1781201 , -0.15700775,\n",
       "       -0.15004856, -0.12614771, -0.1103809 , -0.07752904])"
      ]
     },
     "execution_count": 11,
     "metadata": {},
     "output_type": "execute_result"
    }
   ],
   "source": [
    "mean_z_gravity[:44]"
   ]
  },
  {
   "cell_type": "code",
   "execution_count": 14,
   "metadata": {},
   "outputs": [
    {
     "name": "stdout",
     "output_type": "stream",
     "text": [
      "24 36\n"
     ]
    }
   ],
   "source": [
    "#Find the closest theta_max to the moon and mars gravity\n",
    "mars_index = np.argmin(np.abs(np.array(mean_z_gravity)+0.372))\n",
    "moon_index = np.argmin(np.abs(np.array(mean_z_gravity)+0.1625))\n",
    "\n",
    "print(mars_index,moon_index)"
   ]
  },
  {
   "cell_type": "code",
   "execution_count": 14,
   "metadata": {},
   "outputs": [
    {
     "data": {
      "image/png": "[encoded data removed]",
      "text/plain": [
       "<Figure size 900x400 with 2 Axes>"
      ]
     },
     "metadata": {},
     "output_type": "display_data"
    }
   ],
   "source": [
    "#Take a look an the XY projection of a path\n",
    "target_theta_value = 4.5\n",
    "closest_index = np.argmin(np.abs(np.array(MaxTheta)-target_theta_value))\n",
    "path = x_path.isel(MaxTheta=closest_index).to_dataframe()\n",
    "\n",
    "fig, (ax1,ax2) = plt.subplots(1,2,figsize=(9,4))\n",
    "\n",
    "samp = 15 # downsamples to 1 out of every 15 points\n",
    "\n",
    "# Plot 1\n",
    "ax1.scatter(path.X.iloc[::samp],path.Y.iloc[::samp])\n",
    "ax1.set_xlabel('X')\n",
    "ax1.set_ylabel('Y')\n",
    "ax1.set_title('XY projection of random walk')\n",
    "ax1.set_xlim(-1,1)\n",
    "ax1.set_ylim(-1,1)\n",
    "\n",
    "# Plot 2\n",
    "ax2.scatter(path.X.iloc[::samp],path.Z.iloc[::samp])\n",
    "ax2.set_xlabel('X')\n",
    "ax2.set_ylabel('Z')\n",
    "ax2.set_title('XZ projection of random walk')\n",
    "ax2.set_xlim(-1,1)\n",
    "ax2.set_ylim(-1,1)\n",
    "\n",
    "plt.tight_layout()\n",
    "plt.show()"
   ]
  },
  {
   "cell_type": "markdown",
   "metadata": {},
   "source": [
    "## Averaging window width\n",
    "\n",
    "This section looks at averaging the time window of each theta value calculated in the previous section.\n",
    "\n",
    "The resampled data stored in x_grav is evenly spaced and with a constant velocity this means that the points are also evenly spaced in time. To convert from from the distance step of 0.01mm/step in the above resampled code to time we divide by the feed rate which is in mm/min. The time step in the resampled data is 0.004sec @150mm/min and 0.00171sec @350mm/min."
   ]
  },
  {
   "cell_type": "code",
   "execution_count": 13,
   "metadata": {},
   "outputs": [],
   "source": [
    "# Average gravity as a function of limited rotation\n",
    "# For 5000 points this takes about 6min on a laptop.\n",
    "MaxTheta = np.array([3,6,9,12,15]) \n",
    "gravity = [RandomWalk2D(5000,i,i).generate_walk().get_path() for i in MaxTheta]\n",
    "x_path = xr.concat([grav.to_xarray() for grav in gravity],dim='MaxTheta')\n",
    "x_path['MaxTheta'] = ('MaxTheta',MaxTheta)\n",
    "\n",
    "# Resample the data from the random walk\n",
    "step_size = 0.01\n",
    "path_list = []\n",
    "\n",
    "for i,max in enumerate(MaxTheta):\n",
    "    data = interpolate_points(x_path.isel(MaxTheta=i)['Phi'].values,x_path.isel(MaxTheta=i)['Theta'].values,step_size)\n",
    "    path_list.append(xr.Dataset(\n",
    "        data_vars={\n",
    "        \"Phi\": ((\"index\", \"MaxTheta\"), data[:,0][:, np.newaxis]),\n",
    "        \"Theta\": ((\"index\", \"MaxTheta\"), data[:,1][:, np.newaxis]),\n",
    "    },\n",
    "    coords={\n",
    "        \"index\": np.arange(data[:,0].shape[0]),\n",
    "        \"MaxTheta\": [max],  # Assuming there's only one MaxTheta value\n",
    "    },))\n",
    "min_length = np.min([pl['index'].shape[0] for pl in path_list])\n",
    "x_path_extended = xr.concat([pl.isel(index=slice(0,min_length)) for pl in path_list],dim='MaxTheta')\n",
    "\n",
    "# Add the X,Y,Z positions to the dataset as data variables. \n",
    "x_path_extended[\"X\"], x_path_extended[\"Y\"],x_path_extended[\"Z\"]= xr.apply_ufunc(\n",
    "    rpm2cartesian,\n",
    "    x_path_extended[\"Phi\"],\n",
    "    x_path_extended[\"Theta\"],\n",
    "    input_core_dims=[[\"MaxTheta\", \"index\"], [\"MaxTheta\", \"index\"]],\n",
    "    output_core_dims=[[\"MaxTheta\", \"index\"], [\"MaxTheta\", \"index\"], [\"MaxTheta\", \"index\"]],\n",
    "    vectorize=True,\n",
    "    dask=\"allowed\",  # Use parallel computation with dask\n",
    "    output_dtypes=[float, float, float],\n",
    ")\n"
   ]
  },
  {
   "cell_type": "code",
   "execution_count": 14,
   "metadata": {},
   "outputs": [],
   "source": [
    "# Define the window widths and increments\n",
    "window_widths = np.logspace(3,5,5).round().astype(int)\n",
    "# Define the MaxTheta values\n",
    "max_thetas = x_path_extended['MaxTheta'].values\n",
    "rolling_averages = {}\n",
    "# Iterate over each MaxTheta value\n",
    "for theta in max_thetas:\n",
    "    rolling_averages[theta] = {}\n",
    "    data = x_path_extended.sel(MaxTheta=theta)['Z'].dropna('index').to_numpy()\n",
    "    for width in window_widths:\n",
    "        rolling_averages[theta][width] = np.convolve(data, np.ones(width)/width, mode='valid')"
   ]
  },
  {
   "cell_type": "code",
   "execution_count": 15,
   "metadata": {},
   "outputs": [
    {
     "ename": "ValueError",
     "evalue": "new dimensions ('Time',) must be a superset of existing dimensions ('index',)",
     "output_type": "error",
     "traceback": [
      "\u001b[1;31m---------------------------------------------------------------------------\u001b[0m",
      "\u001b[1;31mValueError\u001b[0m                                Traceback (most recent call last)",
      "\u001b[1;32mc:\\Users\\mrmat\\Documents\\GitHub\\RPM\\setup_analysis.ipynb Cell 32\u001b[0m line \u001b[0;36m6\n\u001b[0;32m      <a href='vscode-notebook-cell:/c%3A/Users/mrmat/Documents/GitHub/RPM/setup_analysis.ipynb#X43sZmlsZQ%3D%3D?line=0'>1</a>\u001b[0m \u001b[39m# Create an empty xarray with dimensions MaxTheta and WindowWidth\u001b[39;00m\n\u001b[0;32m      <a href='vscode-notebook-cell:/c%3A/Users/mrmat/Documents/GitHub/RPM/setup_analysis.ipynb#X43sZmlsZQ%3D%3D?line=1'>2</a>\u001b[0m rolling_averages \u001b[39m=\u001b[39m xr\u001b[39m.\u001b[39mDataset(\n\u001b[0;32m      <a href='vscode-notebook-cell:/c%3A/Users/mrmat/Documents/GitHub/RPM/setup_analysis.ipynb#X43sZmlsZQ%3D%3D?line=2'>3</a>\u001b[0m                                 data_vars \u001b[39m=\u001b[39m {\u001b[39m'\u001b[39m\u001b[39mtime\u001b[39m\u001b[39m'\u001b[39m:((\u001b[39m'\u001b[39m\u001b[39mMaxTheta\u001b[39m\u001b[39m'\u001b[39m,\u001b[39m'\u001b[39m\u001b[39mWindowWidth\u001b[39m\u001b[39m'\u001b[39m,\u001b[39m'\u001b[39m\u001b[39mTime\u001b[39m\u001b[39m'\u001b[39m),np\u001b[39m.\u001b[39mzeros((\u001b[39mlen\u001b[39m(max_thetas), \u001b[39mlen\u001b[39m(window_widths),x_path_extended[\u001b[39m'\u001b[39m\u001b[39mZ\u001b[39m\u001b[39m'\u001b[39m]\u001b[39m.\u001b[39mshape[\u001b[39m1\u001b[39m])))},\n\u001b[0;32m      <a href='vscode-notebook-cell:/c%3A/Users/mrmat/Documents/GitHub/RPM/setup_analysis.ipynb#X43sZmlsZQ%3D%3D?line=3'>4</a>\u001b[0m                                 coords\u001b[39m=\u001b[39m{\u001b[39m'\u001b[39m\u001b[39mMaxTheta\u001b[39m\u001b[39m'\u001b[39m: max_thetas, \u001b[39m'\u001b[39m\u001b[39mWindowWidth\u001b[39m\u001b[39m'\u001b[39m: window_widths})\n\u001b[1;32m----> <a href='vscode-notebook-cell:/c%3A/Users/mrmat/Documents/GitHub/RPM/setup_analysis.ipynb#X43sZmlsZQ%3D%3D?line=5'>6</a>\u001b[0m rolling_averages[\u001b[39m'\u001b[39;49m\u001b[39mtime\u001b[39;49m\u001b[39m'\u001b[39;49m]\u001b[39m.\u001b[39;49mloc[\u001b[39mdict\u001b[39;49m(MaxTheta\u001b[39m=\u001b[39;49m\u001b[39m6\u001b[39;49m,WindowWidth\u001b[39m=\u001b[39;49m\u001b[39m1000\u001b[39;49m)]\u001b[39m=\u001b[39mx_path_extended[\u001b[39m'\u001b[39m\u001b[39mZ\u001b[39m\u001b[39m'\u001b[39m]\u001b[39m.\u001b[39misel(MaxTheta\u001b[39m=\u001b[39m\u001b[39m0\u001b[39m)\n\u001b[0;32m      <a href='vscode-notebook-cell:/c%3A/Users/mrmat/Documents/GitHub/RPM/setup_analysis.ipynb#X43sZmlsZQ%3D%3D?line=7'>8</a>\u001b[0m \u001b[39mprint\u001b[39m(rolling_averages)\n",
      "File \u001b[1;32mc:\\Users\\mrmat\\AppData\\Local\\Programs\\Python\\Python311\\Lib\\site-packages\\xarray\\core\\dataarray.py:235\u001b[0m, in \u001b[0;36m_LocIndexer.__setitem__\u001b[1;34m(self, key, value)\u001b[0m\n\u001b[0;32m    232\u001b[0m     key \u001b[39m=\u001b[39m \u001b[39mdict\u001b[39m(\u001b[39mzip\u001b[39m(\u001b[39mself\u001b[39m\u001b[39m.\u001b[39mdata_array\u001b[39m.\u001b[39mdims, labels))\n\u001b[0;32m    234\u001b[0m dim_indexers \u001b[39m=\u001b[39m map_index_queries(\u001b[39mself\u001b[39m\u001b[39m.\u001b[39mdata_array, key)\u001b[39m.\u001b[39mdim_indexers\n\u001b[1;32m--> 235\u001b[0m \u001b[39mself\u001b[39;49m\u001b[39m.\u001b[39;49mdata_array[dim_indexers] \u001b[39m=\u001b[39m value\n",
      "File \u001b[1;32mc:\\Users\\mrmat\\AppData\\Local\\Programs\\Python\\Python311\\Lib\\site-packages\\xarray\\core\\dataarray.py:879\u001b[0m, in \u001b[0;36mDataArray.__setitem__\u001b[1;34m(self, key, value)\u001b[0m\n\u001b[0;32m    874\u001b[0m \u001b[39m# DataArray key -> Variable key\u001b[39;00m\n\u001b[0;32m    875\u001b[0m key \u001b[39m=\u001b[39m {\n\u001b[0;32m    876\u001b[0m     k: v\u001b[39m.\u001b[39mvariable \u001b[39mif\u001b[39;00m \u001b[39misinstance\u001b[39m(v, DataArray) \u001b[39melse\u001b[39;00m v\n\u001b[0;32m    877\u001b[0m     \u001b[39mfor\u001b[39;00m k, v \u001b[39min\u001b[39;00m \u001b[39mself\u001b[39m\u001b[39m.\u001b[39m_item_key_to_dict(key)\u001b[39m.\u001b[39mitems()\n\u001b[0;32m    878\u001b[0m }\n\u001b[1;32m--> 879\u001b[0m \u001b[39mself\u001b[39;49m\u001b[39m.\u001b[39;49mvariable[key] \u001b[39m=\u001b[39m value\n",
      "File \u001b[1;32mc:\\Users\\mrmat\\AppData\\Local\\Programs\\Python\\Python311\\Lib\\site-packages\\xarray\\core\\variable.py:881\u001b[0m, in \u001b[0;36mVariable.__setitem__\u001b[1;34m(self, key, value)\u001b[0m\n\u001b[0;32m    879\u001b[0m         value \u001b[39m=\u001b[39m Variable(dims[\u001b[39m-\u001b[39mvalue\u001b[39m.\u001b[39mndim :], value)\n\u001b[0;32m    880\u001b[0m \u001b[39m# broadcast to become assignable\u001b[39;00m\n\u001b[1;32m--> 881\u001b[0m value \u001b[39m=\u001b[39m value\u001b[39m.\u001b[39;49mset_dims(dims)\u001b[39m.\u001b[39mdata\n\u001b[0;32m    883\u001b[0m \u001b[39mif\u001b[39;00m new_order:\n\u001b[0;32m    884\u001b[0m     value \u001b[39m=\u001b[39m duck_array_ops\u001b[39m.\u001b[39masarray(value)\n",
      "File \u001b[1;32mc:\\Users\\mrmat\\AppData\\Local\\Programs\\Python\\Python311\\Lib\\site-packages\\xarray\\core\\variable.py:1462\u001b[0m, in \u001b[0;36mVariable.set_dims\u001b[1;34m(self, dims, shape)\u001b[0m\n\u001b[0;32m   1460\u001b[0m missing_dims \u001b[39m=\u001b[39m \u001b[39mset\u001b[39m(\u001b[39mself\u001b[39m\u001b[39m.\u001b[39mdims) \u001b[39m-\u001b[39m \u001b[39mset\u001b[39m(dims)\n\u001b[0;32m   1461\u001b[0m \u001b[39mif\u001b[39;00m missing_dims:\n\u001b[1;32m-> 1462\u001b[0m     \u001b[39mraise\u001b[39;00m \u001b[39mValueError\u001b[39;00m(\n\u001b[0;32m   1463\u001b[0m         \u001b[39mf\u001b[39m\u001b[39m\"\u001b[39m\u001b[39mnew dimensions \u001b[39m\u001b[39m{\u001b[39;00mdims\u001b[39m!r}\u001b[39;00m\u001b[39m must be a superset of \u001b[39m\u001b[39m\"\u001b[39m\n\u001b[0;32m   1464\u001b[0m         \u001b[39mf\u001b[39m\u001b[39m\"\u001b[39m\u001b[39mexisting dimensions \u001b[39m\u001b[39m{\u001b[39;00m\u001b[39mself\u001b[39m\u001b[39m.\u001b[39mdims\u001b[39m!r}\u001b[39;00m\u001b[39m\"\u001b[39m\n\u001b[0;32m   1465\u001b[0m     )\n\u001b[0;32m   1467\u001b[0m self_dims \u001b[39m=\u001b[39m \u001b[39mset\u001b[39m(\u001b[39mself\u001b[39m\u001b[39m.\u001b[39mdims)\n\u001b[0;32m   1468\u001b[0m expanded_dims \u001b[39m=\u001b[39m \u001b[39mtuple\u001b[39m(d \u001b[39mfor\u001b[39;00m d \u001b[39min\u001b[39;00m dims \u001b[39mif\u001b[39;00m d \u001b[39mnot\u001b[39;00m \u001b[39min\u001b[39;00m self_dims) \u001b[39m+\u001b[39m \u001b[39mself\u001b[39m\u001b[39m.\u001b[39mdims\n",
      "\u001b[1;31mValueError\u001b[0m: new dimensions ('Time',) must be a superset of existing dimensions ('index',)"
     ]
    }
   ],
   "source": [
    "# Create an empty xarray with dimensions MaxTheta and WindowWidth\n",
    "rolling_averages = xr.Dataset(\n",
    "                                data_vars = {'time':(('MaxTheta','WindowWidth','Time'),np.zeros((len(max_thetas), len(window_widths),x_path_extended['Z'].shape[1])))},\n",
    "                                coords={'MaxTheta': max_thetas, 'WindowWidth': window_widths})\n",
    "\n",
    "rolling_averages['time'].loc[dict(MaxTheta=6,WindowWidth=1000)]=x_path_extended['Z'].isel(MaxTheta=0)\n",
    "\n",
    "print(rolling_averages)"
   ]
  },
  {
   "cell_type": "code",
   "execution_count": 16,
   "metadata": {},
   "outputs": [],
   "source": [
    "# Iterate over each MaxTheta value\n",
    "for theta in max_thetas:\n",
    "    data = x_path_extended.sel(MaxTheta=theta)['Z']\n",
    "    # Iterate over each window width\n",
    "    for width in window_widths:\n",
    "        rolling_averages['time'].loc[dict(MaxTheta=theta,WindowWidth=width)] = np.convolve(data, np.ones(width)/width, mode='same') # See numpy convolve for the same operator. Edge effecs may be present..."
   ]
  },
  {
   "cell_type": "code",
   "execution_count": 17,
   "metadata": {},
   "outputs": [],
   "source": [
    "# Save to an hdf5 file, this is optional.\n",
    "rolling_averages.to_netcdf('rolling_averages.nc')"
   ]
  },
  {
   "cell_type": "code",
   "execution_count": 2,
   "metadata": {},
   "outputs": [],
   "source": [
    "# Load file \n",
    "rolling_averages = xr.open_dataset(\"rolling_averages.nc\", engine='netcdf4')"
   ]
  },
  {
   "cell_type": "code",
   "execution_count": 4,
   "metadata": {},
   "outputs": [
    {
     "data": {
      "text/html": [
       "<div><svg style=\"position: absolute; width: 0; height: 0; overflow: hidden\">\n",
       "<defs>\n",
       "<symbol id=\"icon-database\" viewBox=\"0 0 32 32\">\n",
       "<path d=\"M16 0c-8.837 0-16 2.239-16 5v4c0 2.761 7.163 5 16 5s16-2.239 16-5v-4c0-2.761-7.163-5-16-5z\"></path>\n",
       "<path d=\"M16 17c-8.837 0-16-2.239-16-5v6c0 2.761 7.163 5 16 5s16-2.239 16-5v-6c0 2.761-7.163 5-16 5z\"></path>\n",
       "<path d=\"M16 26c-8.837 0-16-2.239-16-5v6c0 2.761 7.163 5 16 5s16-2.239 16-5v-6c0 2.761-7.163 5-16 5z\"></path>\n",
       "</symbol>\n",
       "<symbol id=\"icon-file-text2\" viewBox=\"0 0 32 32\">\n",
       "<path d=\"M28.681 7.159c-0.694-0.947-1.662-2.053-2.724-3.116s-2.169-2.030-3.116-2.724c-1.612-1.182-2.393-1.319-2.841-1.319h-15.5c-1.378 0-2.5 1.121-2.5 2.5v27c0 1.378 1.122 2.5 2.5 2.5h23c1.378 0 2.5-1.122 2.5-2.5v-19.5c0-0.448-0.137-1.23-1.319-2.841zM24.543 5.457c0.959 0.959 1.712 1.825 2.268 2.543h-4.811v-4.811c0.718 0.556 1.584 1.309 2.543 2.268zM28 29.5c0 0.271-0.229 0.5-0.5 0.5h-23c-0.271 0-0.5-0.229-0.5-0.5v-27c0-0.271 0.229-0.5 0.5-0.5 0 0 15.499-0 15.5 0v7c0 0.552 0.448 1 1 1h7v19.5z\"></path>\n",
       "<path d=\"M23 26h-14c-0.552 0-1-0.448-1-1s0.448-1 1-1h14c0.552 0 1 0.448 1 1s-0.448 1-1 1z\"></path>\n",
       "<path d=\"M23 22h-14c-0.552 0-1-0.448-1-1s0.448-1 1-1h14c0.552 0 1 0.448 1 1s-0.448 1-1 1z\"></path>\n",
       "<path d=\"M23 18h-14c-0.552 0-1-0.448-1-1s0.448-1 1-1h14c0.552 0 1 0.448 1 1s-0.448 1-1 1z\"></path>\n",
       "</symbol>\n",
       "</defs>\n",
       "</svg>\n",
       "<style>/* CSS stylesheet for displaying xarray objects in jupyterlab.\n",
       " *\n",
       " */\n",
       "\n",
       ":root {\n",
       "  --xr-font-color0: var(--jp-content-font-color0, rgba(0, 0, 0, 1));\n",
       "  --xr-font-color2: var(--jp-content-font-color2, rgba(0, 0, 0, 0.54));\n",
       "  --xr-font-color3: var(--jp-content-font-color3, rgba(0, 0, 0, 0.38));\n",
       "  --xr-border-color: var(--jp-border-color2, #e0e0e0);\n",
       "  --xr-disabled-color: var(--jp-layout-color3, #bdbdbd);\n",
       "  --xr-background-color: var(--jp-layout-color0, white);\n",
       "  --xr-background-color-row-even: var(--jp-layout-color1, white);\n",
       "  --xr-background-color-row-odd: var(--jp-layout-color2, #eeeeee);\n",
       "}\n",
       "\n",
       "html[theme=dark],\n",
       "body[data-theme=dark],\n",
       "body.vscode-dark {\n",
       "  --xr-font-color0: rgba(255, 255, 255, 1);\n",
       "  --xr-font-color2: rgba(255, 255, 255, 0.54);\n",
       "  --xr-font-color3: rgba(255, 255, 255, 0.38);\n",
       "  --xr-border-color: #1F1F1F;\n",
       "  --xr-disabled-color: #515151;\n",
       "  --xr-background-color: #111111;\n",
       "  --xr-background-color-row-even: #111111;\n",
       "  --xr-background-color-row-odd: #313131;\n",
       "}\n",
       "\n",
       ".xr-wrap {\n",
       "  display: block !important;\n",
       "  min-width: 300px;\n",
       "  max-width: 700px;\n",
       "}\n",
       "\n",
       ".xr-text-repr-fallback {\n",
       "  /* fallback to plain text repr when CSS is not injected (untrusted notebook) */\n",
       "  display: none;\n",
       "}\n",
       "\n",
       ".xr-header {\n",
       "  padding-top: 6px;\n",
       "  padding-bottom: 6px;\n",
       "  margin-bottom: 4px;\n",
       "  border-bottom: solid 1px var(--xr-border-color);\n",
       "}\n",
       "\n",
       ".xr-header > div,\n",
       ".xr-header > ul {\n",
       "  display: inline;\n",
       "  margin-top: 0;\n",
       "  margin-bottom: 0;\n",
       "}\n",
       "\n",
       ".xr-obj-type,\n",
       ".xr-array-name {\n",
       "  margin-left: 2px;\n",
       "  margin-right: 10px;\n",
       "}\n",
       "\n",
       ".xr-obj-type {\n",
       "  color: var(--xr-font-color2);\n",
       "}\n",
       "\n",
       ".xr-sections {\n",
       "  padding-left: 0 !important;\n",
       "  display: grid;\n",
       "  grid-template-columns: 150px auto auto 1fr 20px 20px;\n",
       "}\n",
       "\n",
       ".xr-section-item {\n",
       "  display: contents;\n",
       "}\n",
       "\n",
       ".xr-section-item input {\n",
       "  display: none;\n",
       "}\n",
       "\n",
       ".xr-section-item input + label {\n",
       "  color: var(--xr-disabled-color);\n",
       "}\n",
       "\n",
       ".xr-section-item input:enabled + label {\n",
       "  cursor: pointer;\n",
       "  color: var(--xr-font-color2);\n",
       "}\n",
       "\n",
       ".xr-section-item input:enabled + label:hover {\n",
       "  color: var(--xr-font-color0);\n",
       "}\n",
       "\n",
       ".xr-section-summary {\n",
       "  grid-column: 1;\n",
       "  color: var(--xr-font-color2);\n",
       "  font-weight: 500;\n",
       "}\n",
       "\n",
       ".xr-section-summary > span {\n",
       "  display: inline-block;\n",
       "  padding-left: 0.5em;\n",
       "}\n",
       "\n",
       ".xr-section-summary-in:disabled + label {\n",
       "  color: var(--xr-font-color2);\n",
       "}\n",
       "\n",
       ".xr-section-summary-in + label:before {\n",
       "  display: inline-block;\n",
       "  content: '►';\n",
       "  font-size: 11px;\n",
       "  width: 15px;\n",
       "  text-align: center;\n",
       "}\n",
       "\n",
       ".xr-section-summary-in:disabled + label:before {\n",
       "  color: var(--xr-disabled-color);\n",
       "}\n",
       "\n",
       ".xr-section-summary-in:checked + label:before {\n",
       "  content: '▼';\n",
       "}\n",
       "\n",
       ".xr-section-summary-in:checked + label > span {\n",
       "  display: none;\n",
       "}\n",
       "\n",
       ".xr-section-summary,\n",
       ".xr-section-inline-details {\n",
       "  padding-top: 4px;\n",
       "  padding-bottom: 4px;\n",
       "}\n",
       "\n",
       ".xr-section-inline-details {\n",
       "  grid-column: 2 / -1;\n",
       "}\n",
       "\n",
       ".xr-section-details {\n",
       "  display: none;\n",
       "  grid-column: 1 / -1;\n",
       "  margin-bottom: 5px;\n",
       "}\n",
       "\n",
       ".xr-section-summary-in:checked ~ .xr-section-details {\n",
       "  display: contents;\n",
       "}\n",
       "\n",
       ".xr-array-wrap {\n",
       "  grid-column: 1 / -1;\n",
       "  display: grid;\n",
       "  grid-template-columns: 20px auto;\n",
       "}\n",
       "\n",
       ".xr-array-wrap > label {\n",
       "  grid-column: 1;\n",
       "  vertical-align: top;\n",
       "}\n",
       "\n",
       ".xr-preview {\n",
       "  color: var(--xr-font-color3);\n",
       "}\n",
       "\n",
       ".xr-array-preview,\n",
       ".xr-array-data {\n",
       "  padding: 0 5px !important;\n",
       "  grid-column: 2;\n",
       "}\n",
       "\n",
       ".xr-array-data,\n",
       ".xr-array-in:checked ~ .xr-array-preview {\n",
       "  display: none;\n",
       "}\n",
       "\n",
       ".xr-array-in:checked ~ .xr-array-data,\n",
       ".xr-array-preview {\n",
       "  display: inline-block;\n",
       "}\n",
       "\n",
       ".xr-dim-list {\n",
       "  display: inline-block !important;\n",
       "  list-style: none;\n",
       "  padding: 0 !important;\n",
       "  margin: 0;\n",
       "}\n",
       "\n",
       ".xr-dim-list li {\n",
       "  display: inline-block;\n",
       "  padding: 0;\n",
       "  margin: 0;\n",
       "}\n",
       "\n",
       ".xr-dim-list:before {\n",
       "  content: '(';\n",
       "}\n",
       "\n",
       ".xr-dim-list:after {\n",
       "  content: ')';\n",
       "}\n",
       "\n",
       ".xr-dim-list li:not(:last-child):after {\n",
       "  content: ',';\n",
       "  padding-right: 5px;\n",
       "}\n",
       "\n",
       ".xr-has-index {\n",
       "  font-weight: bold;\n",
       "}\n",
       "\n",
       ".xr-var-list,\n",
       ".xr-var-item {\n",
       "  display: contents;\n",
       "}\n",
       "\n",
       ".xr-var-item > div,\n",
       ".xr-var-item label,\n",
       ".xr-var-item > .xr-var-name span {\n",
       "  background-color: var(--xr-background-color-row-even);\n",
       "  margin-bottom: 0;\n",
       "}\n",
       "\n",
       ".xr-var-item > .xr-var-name:hover span {\n",
       "  padding-right: 5px;\n",
       "}\n",
       "\n",
       ".xr-var-list > li:nth-child(odd) > div,\n",
       ".xr-var-list > li:nth-child(odd) > label,\n",
       ".xr-var-list > li:nth-child(odd) > .xr-var-name span {\n",
       "  background-color: var(--xr-background-color-row-odd);\n",
       "}\n",
       "\n",
       ".xr-var-name {\n",
       "  grid-column: 1;\n",
       "}\n",
       "\n",
       ".xr-var-dims {\n",
       "  grid-column: 2;\n",
       "}\n",
       "\n",
       ".xr-var-dtype {\n",
       "  grid-column: 3;\n",
       "  text-align: right;\n",
       "  color: var(--xr-font-color2);\n",
       "}\n",
       "\n",
       ".xr-var-preview {\n",
       "  grid-column: 4;\n",
       "}\n",
       "\n",
       ".xr-index-preview {\n",
       "  grid-column: 2 / 5;\n",
       "  color: var(--xr-font-color2);\n",
       "}\n",
       "\n",
       ".xr-var-name,\n",
       ".xr-var-dims,\n",
       ".xr-var-dtype,\n",
       ".xr-preview,\n",
       ".xr-attrs dt {\n",
       "  white-space: nowrap;\n",
       "  overflow: hidden;\n",
       "  text-overflow: ellipsis;\n",
       "  padding-right: 10px;\n",
       "}\n",
       "\n",
       ".xr-var-name:hover,\n",
       ".xr-var-dims:hover,\n",
       ".xr-var-dtype:hover,\n",
       ".xr-attrs dt:hover {\n",
       "  overflow: visible;\n",
       "  width: auto;\n",
       "  z-index: 1;\n",
       "}\n",
       "\n",
       ".xr-var-attrs,\n",
       ".xr-var-data,\n",
       ".xr-index-data {\n",
       "  display: none;\n",
       "  background-color: var(--xr-background-color) !important;\n",
       "  padding-bottom: 5px !important;\n",
       "}\n",
       "\n",
       ".xr-var-attrs-in:checked ~ .xr-var-attrs,\n",
       ".xr-var-data-in:checked ~ .xr-var-data,\n",
       ".xr-index-data-in:checked ~ .xr-index-data {\n",
       "  display: block;\n",
       "}\n",
       "\n",
       ".xr-var-data > table {\n",
       "  float: right;\n",
       "}\n",
       "\n",
       ".xr-var-name span,\n",
       ".xr-var-data,\n",
       ".xr-index-name div,\n",
       ".xr-index-data,\n",
       ".xr-attrs {\n",
       "  padding-left: 25px !important;\n",
       "}\n",
       "\n",
       ".xr-attrs,\n",
       ".xr-var-attrs,\n",
       ".xr-var-data,\n",
       ".xr-index-data {\n",
       "  grid-column: 1 / -1;\n",
       "}\n",
       "\n",
       "dl.xr-attrs {\n",
       "  padding: 0;\n",
       "  margin: 0;\n",
       "  display: grid;\n",
       "  grid-template-columns: 125px auto;\n",
       "}\n",
       "\n",
       ".xr-attrs dt,\n",
       ".xr-attrs dd {\n",
       "  padding: 0;\n",
       "  margin: 0;\n",
       "  float: left;\n",
       "  padding-right: 10px;\n",
       "  width: auto;\n",
       "}\n",
       "\n",
       ".xr-attrs dt {\n",
       "  font-weight: normal;\n",
       "  grid-column: 1;\n",
       "}\n",
       "\n",
       ".xr-attrs dt:hover span {\n",
       "  display: inline-block;\n",
       "  background: var(--xr-background-color);\n",
       "  padding-right: 10px;\n",
       "}\n",
       "\n",
       ".xr-attrs dd {\n",
       "  grid-column: 2;\n",
       "  white-space: pre-wrap;\n",
       "  word-break: break-all;\n",
       "}\n",
       "\n",
       ".xr-icon-database,\n",
       ".xr-icon-file-text2,\n",
       ".xr-no-icon {\n",
       "  display: inline-block;\n",
       "  vertical-align: middle;\n",
       "  width: 1em;\n",
       "  height: 1.5em !important;\n",
       "  stroke-width: 0;\n",
       "  stroke: currentColor;\n",
       "  fill: currentColor;\n",
       "}\n",
       "</style><pre class='xr-text-repr-fallback'>&lt;xarray.DataArray (Time: 485207, WindowWidth: 5)&gt;\n",
       "array([[-0.35296168, -0.64123195, -0.59175757, -0.6765568 , -0.67724198],\n",
       "       [-0.35263692, -0.64128755, -0.59178652, -0.67656519, -0.67724246],\n",
       "       [-0.35231377, -0.64134227, -0.59181554, -0.67657356, -0.67724293],\n",
       "       ...,\n",
       "       [-0.8074524 , -0.74977459, -0.65225781, -0.65821994, -0.66175914],\n",
       "       [-0.80742255, -0.74985065, -0.65222704, -0.65820571, -0.66175562],\n",
       "       [-0.80739248, -0.7499264 , -0.65219627, -0.6581915 , -0.66175211]])\n",
       "Coordinates:\n",
       "    MaxTheta     int32 6\n",
       "  * WindowWidth  (WindowWidth) int32 1000 3162 10000 31623 100000\n",
       "    variable     &lt;U4 &#x27;time&#x27;\n",
       "Dimensions without coordinates: Time</pre><div class='xr-wrap' style='display:none'><div class='xr-header'><div class='xr-obj-type'>xarray.DataArray</div><div class='xr-array-name'></div><ul class='xr-dim-list'><li><span>Time</span>: 485207</li><li><span class='xr-has-index'>WindowWidth</span>: 5</li></ul></div><ul class='xr-sections'><li class='xr-section-item'><div class='xr-array-wrap'><input id='section-c658c173-d645-4eeb-8b24-9777e51ba878' class='xr-array-in' type='checkbox' checked><label for='section-c658c173-d645-4eeb-8b24-9777e51ba878' title='Show/hide data repr'><svg class='icon xr-icon-database'><use xlink:href='#icon-database'></use></svg></label><div class='xr-array-preview xr-preview'><span>-0.353 -0.6412 -0.5918 -0.6766 ... -0.7499 -0.6522 -0.6582 -0.6618</span></div><div class='xr-array-data'><pre>array([[-0.35296168, -0.64123195, -0.59175757, -0.6765568 , -0.67724198],\n",
       "       [-0.35263692, -0.64128755, -0.59178652, -0.67656519, -0.67724246],\n",
       "       [-0.35231377, -0.64134227, -0.59181554, -0.67657356, -0.67724293],\n",
       "       ...,\n",
       "       [-0.8074524 , -0.74977459, -0.65225781, -0.65821994, -0.66175914],\n",
       "       [-0.80742255, -0.74985065, -0.65222704, -0.65820571, -0.66175562],\n",
       "       [-0.80739248, -0.7499264 , -0.65219627, -0.6581915 , -0.66175211]])</pre></div></div></li><li class='xr-section-item'><input id='section-03fbf93f-dd48-467f-a082-e21e3b12de30' class='xr-section-summary-in' type='checkbox'  checked><label for='section-03fbf93f-dd48-467f-a082-e21e3b12de30' class='xr-section-summary' >Coordinates: <span>(3)</span></label><div class='xr-section-inline-details'></div><div class='xr-section-details'><ul class='xr-var-list'><li class='xr-var-item'><div class='xr-var-name'><span>MaxTheta</span></div><div class='xr-var-dims'>()</div><div class='xr-var-dtype'>int32</div><div class='xr-var-preview xr-preview'>6</div><input id='attrs-f72ad9b4-adff-4cfa-afa7-c05f178ef37e' class='xr-var-attrs-in' type='checkbox' disabled><label for='attrs-f72ad9b4-adff-4cfa-afa7-c05f178ef37e' title='Show/Hide attributes'><svg class='icon xr-icon-file-text2'><use xlink:href='#icon-file-text2'></use></svg></label><input id='data-c3fa227b-344e-4045-aae6-01f1c338de9c' class='xr-var-data-in' type='checkbox'><label for='data-c3fa227b-344e-4045-aae6-01f1c338de9c' title='Show/Hide data repr'><svg class='icon xr-icon-database'><use xlink:href='#icon-database'></use></svg></label><div class='xr-var-attrs'><dl class='xr-attrs'></dl></div><div class='xr-var-data'><pre>array(6)</pre></div></li><li class='xr-var-item'><div class='xr-var-name'><span class='xr-has-index'>WindowWidth</span></div><div class='xr-var-dims'>(WindowWidth)</div><div class='xr-var-dtype'>int32</div><div class='xr-var-preview xr-preview'>1000 3162 10000 31623 100000</div><input id='attrs-4545c851-4abb-46f3-8fa0-c5459c13208d' class='xr-var-attrs-in' type='checkbox' disabled><label for='attrs-4545c851-4abb-46f3-8fa0-c5459c13208d' title='Show/Hide attributes'><svg class='icon xr-icon-file-text2'><use xlink:href='#icon-file-text2'></use></svg></label><input id='data-ff6484ae-6e13-403e-bf76-d3e144c6b1a4' class='xr-var-data-in' type='checkbox'><label for='data-ff6484ae-6e13-403e-bf76-d3e144c6b1a4' title='Show/Hide data repr'><svg class='icon xr-icon-database'><use xlink:href='#icon-database'></use></svg></label><div class='xr-var-attrs'><dl class='xr-attrs'></dl></div><div class='xr-var-data'><pre>array([  1000,   3162,  10000,  31623, 100000])</pre></div></li><li class='xr-var-item'><div class='xr-var-name'><span>variable</span></div><div class='xr-var-dims'>()</div><div class='xr-var-dtype'>&lt;U4</div><div class='xr-var-preview xr-preview'>&#x27;time&#x27;</div><input id='attrs-a6d5b166-bfef-40ef-9622-767eb94ebac2' class='xr-var-attrs-in' type='checkbox' disabled><label for='attrs-a6d5b166-bfef-40ef-9622-767eb94ebac2' title='Show/Hide attributes'><svg class='icon xr-icon-file-text2'><use xlink:href='#icon-file-text2'></use></svg></label><input id='data-08681c8d-904b-44ec-832c-68ad3754e41a' class='xr-var-data-in' type='checkbox'><label for='data-08681c8d-904b-44ec-832c-68ad3754e41a' title='Show/Hide data repr'><svg class='icon xr-icon-database'><use xlink:href='#icon-database'></use></svg></label><div class='xr-var-attrs'><dl class='xr-attrs'></dl></div><div class='xr-var-data'><pre>array(&#x27;time&#x27;, dtype=&#x27;&lt;U4&#x27;)</pre></div></li></ul></div></li><li class='xr-section-item'><input id='section-9232ceb3-3338-4a2b-b236-466e4ce07d41' class='xr-section-summary-in' type='checkbox'  ><label for='section-9232ceb3-3338-4a2b-b236-466e4ce07d41' class='xr-section-summary' >Indexes: <span>(1)</span></label><div class='xr-section-inline-details'></div><div class='xr-section-details'><ul class='xr-var-list'><li class='xr-var-item'><div class='xr-index-name'><div>WindowWidth</div></div><div class='xr-index-preview'>PandasIndex</div><div></div><input id='index-83a7eac5-86d2-4c8a-acf0-9602bb783400' class='xr-index-data-in' type='checkbox'/><label for='index-83a7eac5-86d2-4c8a-acf0-9602bb783400' title='Show/Hide index repr'><svg class='icon xr-icon-database'><use xlink:href='#icon-database'></use></svg></label><div class='xr-index-data'><pre>PandasIndex(Index([1000, 3162, 10000, 31623, 100000], dtype=&#x27;int32&#x27;, name=&#x27;WindowWidth&#x27;))</pre></div></li></ul></div></li><li class='xr-section-item'><input id='section-65c88b69-135e-4a6d-b532-78ee11785922' class='xr-section-summary-in' type='checkbox' disabled ><label for='section-65c88b69-135e-4a6d-b532-78ee11785922' class='xr-section-summary'  title='Expand/collapse section'>Attributes: <span>(0)</span></label><div class='xr-section-inline-details'></div><div class='xr-section-details'><dl class='xr-attrs'></dl></div></li></ul></div></div>"
      ],
      "text/plain": [
       "<xarray.DataArray (Time: 485207, WindowWidth: 5)>\n",
       "array([[-0.35296168, -0.64123195, -0.59175757, -0.6765568 , -0.67724198],\n",
       "       [-0.35263692, -0.64128755, -0.59178652, -0.67656519, -0.67724246],\n",
       "       [-0.35231377, -0.64134227, -0.59181554, -0.67657356, -0.67724293],\n",
       "       ...,\n",
       "       [-0.8074524 , -0.74977459, -0.65225781, -0.65821994, -0.66175914],\n",
       "       [-0.80742255, -0.74985065, -0.65222704, -0.65820571, -0.66175562],\n",
       "       [-0.80739248, -0.7499264 , -0.65219627, -0.6581915 , -0.66175211]])\n",
       "Coordinates:\n",
       "    MaxTheta     int32 6\n",
       "  * WindowWidth  (WindowWidth) int32 1000 3162 10000 31623 100000\n",
       "    variable     <U4 'time'\n",
       "Dimensions without coordinates: Time"
      ]
     },
     "execution_count": 4,
     "metadata": {},
     "output_type": "execute_result"
    }
   ],
   "source": [
    "\n",
    "window_widths = np.logspace(3,5,5).round().astype(int)\n",
    "max_thetas = np.array([3,9,15]) \n",
    "rolling_averages.isel(MaxTheta=1).to_array().squeeze().T[np.max(window_widths):-np.max(window_widths)]"
   ]
  },
  {
   "cell_type": "code",
   "execution_count": 6,
   "metadata": {},
   "outputs": [
    {
     "data": {
      "image/png": "[encoded data removed]",
      "text/plain": [
       "<Figure size 1000x600 with 3 Axes>"
      ]
     },
     "metadata": {},
     "output_type": "display_data"
    }
   ],
   "source": [
    "# Create a figure with subplots for each MaxTheta\n",
    "fig, axs = plt.subplots(ncols=len(max_thetas), figsize=(10,6))\n",
    "titles = ['$0.19\\pi$','$0.58\\pi$','$0.97\\pi$']\n",
    "for i,max_theta in enumerate(max_thetas):\n",
    "        # Create a violin plot for the current MaxTheta\n",
    "    ax = axs[i]\n",
    "    ax.violinplot(9.81*rolling_averages.where(rolling_averages['MaxTheta']==max_theta,drop=True).to_array().squeeze().T[np.max(window_widths):-np.max(window_widths)], showextrema=True, showmedians=True)\n",
    "    ax.set_xlabel('Window Width')\n",
    "    ax.set_xticks(range(1, len(window_widths) + 1),[ f'4.0 \\n (1.71)', f'12.65 \\n (5.41)', f'40 \\n (17.1)',f'126.5 \\n (54.1)', f'400 \\n (171)'])\n",
    "    if i==0:\n",
    "        ax.set_ylabel('Rolling Average of Z / m s$^{-2}$')\n",
    "    else:\n",
    "        ax.tick_params(labelleft=False)\n",
    "    ax.set_ylim(-10,10)\n",
    "    ax.set_title(f'MaxTheta = {titles[i]}')\n",
    "\n",
    "# Adjust spacing between subplots\n",
    "fig.tight_layout()\n",
    "\n",
    "plt.show()\n"
   ]
  },
  {
   "cell_type": "markdown",
   "metadata": {},
   "source": [
    "# Output to G-code\n",
    "\n",
    "G-code output is reasonably straight forward. The first line needs to include a feedrate."
   ]
  },
  {
   "cell_type": "code",
   "execution_count": 3,
   "metadata": {},
   "outputs": [],
   "source": [
    "#Here we're regenerating the path from the top of the notebook becuase we want a clean theta value\n",
    "path = [RandomWalk2D(5000,i,i).generate_walk().get_path() for i in [3,6,9,12,15]]"
   ]
  },
  {
   "cell_type": "code",
   "execution_count": 4,
   "metadata": {},
   "outputs": [
    {
     "data": {
      "text/html": [
       "<div>\n",
       "<style scoped>\n",
       "    .dataframe tbody tr th:only-of-type {\n",
       "        vertical-align: middle;\n",
       "    }\n",
       "\n",
       "    .dataframe tbody tr th {\n",
       "        vertical-align: top;\n",
       "    }\n",
       "\n",
       "    .dataframe thead th {\n",
       "        text-align: right;\n",
       "    }\n",
       "</style>\n",
       "<table border=\"1\" class=\"dataframe\">\n",
       "  <thead>\n",
       "    <tr style=\"text-align: right;\">\n",
       "      <th></th>\n",
       "      <th>Theta</th>\n",
       "      <th>Phi</th>\n",
       "      <th>X</th>\n",
       "      <th>Y</th>\n",
       "      <th>Z</th>\n",
       "    </tr>\n",
       "  </thead>\n",
       "  <tbody>\n",
       "    <tr>\n",
       "      <th>count</th>\n",
       "      <td>5001.000000</td>\n",
       "      <td>5001.000000</td>\n",
       "      <td>5001.000000</td>\n",
       "      <td>5001.000000</td>\n",
       "      <td>5001.000000</td>\n",
       "    </tr>\n",
       "    <tr>\n",
       "      <th>mean</th>\n",
       "      <td>-0.228221</td>\n",
       "      <td>0.201782</td>\n",
       "      <td>-0.033565</td>\n",
       "      <td>-0.001028</td>\n",
       "      <td>0.037756</td>\n",
       "    </tr>\n",
       "    <tr>\n",
       "      <th>std</th>\n",
       "      <td>9.627843</td>\n",
       "      <td>9.745539</td>\n",
       "      <td>0.504571</td>\n",
       "      <td>0.670329</td>\n",
       "      <td>0.541953</td>\n",
       "    </tr>\n",
       "    <tr>\n",
       "      <th>min</th>\n",
       "      <td>-14.997995</td>\n",
       "      <td>-14.999443</td>\n",
       "      <td>-0.999835</td>\n",
       "      <td>-1.000000</td>\n",
       "      <td>-1.000000</td>\n",
       "    </tr>\n",
       "    <tr>\n",
       "      <th>25%</th>\n",
       "      <td>-9.163327</td>\n",
       "      <td>-8.667667</td>\n",
       "      <td>-0.404172</td>\n",
       "      <td>-0.629451</td>\n",
       "      <td>-0.359227</td>\n",
       "    </tr>\n",
       "    <tr>\n",
       "      <th>50%</th>\n",
       "      <td>-0.039588</td>\n",
       "      <td>0.131290</td>\n",
       "      <td>-0.029473</td>\n",
       "      <td>0.026607</td>\n",
       "      <td>0.031592</td>\n",
       "    </tr>\n",
       "    <tr>\n",
       "      <th>75%</th>\n",
       "      <td>8.511580</td>\n",
       "      <td>9.365610</td>\n",
       "      <td>0.304525</td>\n",
       "      <td>0.619434</td>\n",
       "      <td>0.462064</td>\n",
       "    </tr>\n",
       "    <tr>\n",
       "      <th>max</th>\n",
       "      <td>14.997390</td>\n",
       "      <td>14.998788</td>\n",
       "      <td>0.997721</td>\n",
       "      <td>0.999990</td>\n",
       "      <td>0.994449</td>\n",
       "    </tr>\n",
       "  </tbody>\n",
       "</table>\n",
       "</div>"
      ],
      "text/plain": [
       "             Theta          Phi            X            Y            Z\n",
       "count  5001.000000  5001.000000  5001.000000  5001.000000  5001.000000\n",
       "mean     -0.228221     0.201782    -0.033565    -0.001028     0.037756\n",
       "std       9.627843     9.745539     0.504571     0.670329     0.541953\n",
       "min     -14.997995   -14.999443    -0.999835    -1.000000    -1.000000\n",
       "25%      -9.163327    -8.667667    -0.404172    -0.629451    -0.359227\n",
       "50%      -0.039588     0.131290    -0.029473     0.026607     0.031592\n",
       "75%       8.511580     9.365610     0.304525     0.619434     0.462064\n",
       "max      14.997390    14.998788     0.997721     0.999990     0.994449"
      ]
     },
     "execution_count": 4,
     "metadata": {},
     "output_type": "execute_result"
    }
   ],
   "source": [
    "path[-1].describe()"
   ]
  },
  {
   "cell_type": "code",
   "execution_count": 5,
   "metadata": {},
   "outputs": [],
   "source": [
    "theta = [3,6,9,12,15]\n",
    "feedrate = [150,350]\n",
    "for feed in feedrate:\n",
    "    for i,angle in enumerate(theta):\n",
    "        filename = f\"{angle}Theta_F{feed}.gcode\" #file extension is .gcode\n",
    "        with open(filename,'w') as file:\n",
    "            file.write(f'F{feed}\\n')\n",
    "            for index, row in path[i].iterrows():\n",
    "                x = row['Theta'] # The machine x is the code Theta\n",
    "                y = row['Phi']   # The machine y is the code Phi\n",
    "                line = f'G01 x{x:0.2f}y{y:0.2f}\\n'\n",
    "                file.write(line)"
   ]
  }
 ],
 "metadata": {
  "kernelspec": {
   "display_name": ".venv",
   "language": "python",
   "name": "python3"
  },
  "language_info": {
   "codemirror_mode": {
    "name": "ipython",
    "version": 3
   },
   "file_extension": ".py",
   "mimetype": "text/x-python",
   "name": "python",
   "nbconvert_exporter": "python",
   "pygments_lexer": "ipython3",
   "version": "3.11.4"
  },
  "orig_nbformat": 4
 },
 "nbformat": 4,
 "nbformat_minor": 2
}
